{
    "cells": [
        {
            "cell_type": "code",
            "execution_count": 1,
            "metadata": {},
            "outputs": [
                {
                    "name": "stdout",
                    "output_type": "stream",
                    "text": "Waiting for a Spark session to start...\nSpark Initialization Done! ApplicationId = app-20200414162947-0000\nKERNEL_ID = 499f2161-4f30-401c-8494-9be16614978b\n"
                }
            ],
            "source": "rdd = sc.parallelize(range(100))"
        },
        {
            "cell_type": "code",
            "execution_count": 2,
            "metadata": {},
            "outputs": [
                {
                    "name": "stdout",
                    "output_type": "stream",
                    "text": "hello\n"
                }
            ],
            "source": "print(\"hello\")"
        },
        {
            "cell_type": "code",
            "execution_count": 3,
            "metadata": {},
            "outputs": [
                {
                    "data": {
                        "text/plain": "100"
                    },
                    "execution_count": 3,
                    "metadata": {},
                    "output_type": "execute_result"
                }
            ],
            "source": "rdd.count()"
        },
        {
            "cell_type": "code",
            "execution_count": 4,
            "metadata": {},
            "outputs": [
                {
                    "data": {
                        "text/plain": "[0, 1, 2, 3, 4, 5, 6, 7, 8, 9]"
                    },
                    "execution_count": 4,
                    "metadata": {},
                    "output_type": "execute_result"
                }
            ],
            "source": "rdd.take(10)"
        },
        {
            "cell_type": "code",
            "execution_count": 5,
            "metadata": {},
            "outputs": [
                {
                    "data": {
                        "text/plain": "[1, 2, 3, 4, 5, 6, 7, 8, 9, 10]"
                    },
                    "execution_count": 5,
                    "metadata": {},
                    "output_type": "execute_result"
                }
            ],
            "source": "rdd.map(lambda x:x+1).take(10)"
        },
        {
            "cell_type": "code",
            "execution_count": 6,
            "metadata": {},
            "outputs": [
                {
                    "data": {
                        "text/plain": "5050"
                    },
                    "execution_count": 6,
                    "metadata": {},
                    "output_type": "execute_result"
                }
            ],
            "source": "sc.parallelize(range(1,101)).reduce(lambda a,b: a+b)"
        },
        {
            "cell_type": "code",
            "execution_count": 7,
            "metadata": {},
            "outputs": [],
            "source": "from pyspark.sql import Row\n"
        },
        {
            "cell_type": "code",
            "execution_count": 8,
            "metadata": {},
            "outputs": [
                {
                    "name": "stdout",
                    "output_type": "stream",
                    "text": "+---+------+\n| id| value|\n+---+------+\n|  1| David|\n|  2|Nathan|\n+---+------+\n\n"
                }
            ],
            "source": "df = spark.createDataFrame([Row(id=1,value='David'), Row(id=2,value='Nathan')])\ndf.show()"
        },
        {
            "cell_type": "code",
            "execution_count": 9,
            "metadata": {},
            "outputs": [
                {
                    "name": "stdout",
                    "output_type": "stream",
                    "text": "root\n |-- id: long (nullable = true)\n |-- value: string (nullable = true)\n\n"
                }
            ],
            "source": "df.printSchema()"
        },
        {
            "cell_type": "code",
            "execution_count": 10,
            "metadata": {},
            "outputs": [
                {
                    "name": "stdout",
                    "output_type": "stream",
                    "text": "+------+\n| value|\n+------+\n|Nathan|\n+------+\n\n"
                }
            ],
            "source": "df.createOrReplaceTempView('df_view')\ndf_result = spark.sql('select value from df_view where id=2')\ndf_result.show()"
        },
        {
            "cell_type": "code",
            "execution_count": 11,
            "metadata": {},
            "outputs": [
                {
                    "data": {
                        "text/plain": "'Nathan'"
                    },
                    "execution_count": 11,
                    "metadata": {},
                    "output_type": "execute_result"
                }
            ],
            "source": "df_result.first().value #get result as string"
        },
        {
            "cell_type": "code",
            "execution_count": 12,
            "metadata": {},
            "outputs": [],
            "source": "from pyspark import SQLContext"
        },
        {
            "cell_type": "code",
            "execution_count": 13,
            "metadata": {},
            "outputs": [
                {
                    "name": "stdout",
                    "output_type": "stream",
                    "text": "--2020-04-14 16:30:15--  https://s3-api.us-geo.objectstorage.softlayer.net/cf-courses-data/CognitiveClass/DA0101EN/auto.csv\nResolving s3-api.us-geo.objectstorage.softlayer.net (s3-api.us-geo.objectstorage.softlayer.net)... 67.228.254.196\nConnecting to s3-api.us-geo.objectstorage.softlayer.net (s3-api.us-geo.objectstorage.softlayer.net)|67.228.254.196|:443... connected.\nHTTP request sent, awaiting response... 200 OK\nLength: 24916 (24K) [text/csv]\nSaving to: 'auto.csv'\n\n100%[======================================>] 24,916      --.-K/s   in 0.002s  \n\n2020-04-14 16:30:15 (13.1 MB/s) - 'auto.csv' saved [24916/24916]\n\n"
                }
            ],
            "source": "!wget -O auto.csv https://s3-api.us-geo.objectstorage.softlayer.net/cf-courses-data/CognitiveClass/DA0101EN/auto.csv"
        },
        {
            "cell_type": "code",
            "execution_count": 14,
            "metadata": {},
            "outputs": [],
            "source": "df = spark.read.format(\"csv\").option(\"header\",\"true\").load('auto.csv')"
        },
        {
            "cell_type": "code",
            "execution_count": 15,
            "metadata": {},
            "outputs": [
                {
                    "name": "stdout",
                    "output_type": "stream",
                    "text": "+---+---+-----------+---+-----+----+-----------+---+-----+-----+-----+----+----+----+----+-----+---+----+----+----+----+---+----+---+---+-----+\n|  3|  ?|alfa-romero|gas|  std| two|convertible|rwd|front| 88.6|168.8|64.1|48.8|2548|dohc| four|130|mpfi|3.47|2.68| 9.0|111|5000| 21| 27|13495|\n+---+---+-----------+---+-----+----+-----------+---+-----+-----+-----+----+----+----+----+-----+---+----+----+----+----+---+----+---+---+-----+\n|  3|  ?|alfa-romero|gas|  std| two|convertible|rwd|front| 88.6|168.8|64.1|48.8|2548|dohc| four|130|mpfi|3.47|2.68| 9.0|111|5000| 21| 27|16500|\n|  1|  ?|alfa-romero|gas|  std| two|  hatchback|rwd|front| 94.5|171.2|65.5|52.4|2823|ohcv|  six|152|mpfi|2.68|3.47| 9.0|154|5000| 19| 26|16500|\n|  2|164|       audi|gas|  std|four|      sedan|fwd|front| 99.8|176.6|66.2|54.3|2337| ohc| four|109|mpfi|3.19|3.40|10.0|102|5500| 24| 30|13950|\n|  2|164|       audi|gas|  std|four|      sedan|4wd|front| 99.4|176.6|66.4|54.3|2824| ohc| five|136|mpfi|3.19|3.40| 8.0|115|5500| 18| 22|17450|\n|  2|  ?|       audi|gas|  std| two|      sedan|fwd|front| 99.8|177.3|66.3|53.1|2507| ohc| five|136|mpfi|3.19|3.40| 8.5|110|5500| 19| 25|15250|\n|  1|158|       audi|gas|  std|four|      sedan|fwd|front|105.8|192.7|71.4|55.7|2844| ohc| five|136|mpfi|3.19|3.40| 8.5|110|5500| 19| 25|17710|\n|  1|  ?|       audi|gas|  std|four|      wagon|fwd|front|105.8|192.7|71.4|55.7|2954| ohc| five|136|mpfi|3.19|3.40| 8.5|110|5500| 19| 25|18920|\n|  1|158|       audi|gas|turbo|four|      sedan|fwd|front|105.8|192.7|71.4|55.9|3086| ohc| five|131|mpfi|3.13|3.40| 8.3|140|5500| 17| 20|23875|\n|  0|  ?|       audi|gas|turbo| two|  hatchback|4wd|front| 99.5|178.2|67.9|52.0|3053| ohc| five|131|mpfi|3.13|3.40| 7.0|160|5500| 16| 22|    ?|\n|  2|192|        bmw|gas|  std| two|      sedan|rwd|front|101.2|176.8|64.8|54.3|2395| ohc| four|108|mpfi|3.50|2.80| 8.8|101|5800| 23| 29|16430|\n|  0|192|        bmw|gas|  std|four|      sedan|rwd|front|101.2|176.8|64.8|54.3|2395| ohc| four|108|mpfi|3.50|2.80| 8.8|101|5800| 23| 29|16925|\n|  0|188|        bmw|gas|  std| two|      sedan|rwd|front|101.2|176.8|64.8|54.3|2710| ohc|  six|164|mpfi|3.31|3.19| 9.0|121|4250| 21| 28|20970|\n|  0|188|        bmw|gas|  std|four|      sedan|rwd|front|101.2|176.8|64.8|54.3|2765| ohc|  six|164|mpfi|3.31|3.19| 9.0|121|4250| 21| 28|21105|\n|  1|  ?|        bmw|gas|  std|four|      sedan|rwd|front|103.5|189.0|66.9|55.7|3055| ohc|  six|164|mpfi|3.31|3.19| 9.0|121|4250| 20| 25|24565|\n|  0|  ?|        bmw|gas|  std|four|      sedan|rwd|front|103.5|189.0|66.9|55.7|3230| ohc|  six|209|mpfi|3.62|3.39| 8.0|182|5400| 16| 22|30760|\n|  0|  ?|        bmw|gas|  std| two|      sedan|rwd|front|103.5|193.8|67.9|53.7|3380| ohc|  six|209|mpfi|3.62|3.39| 8.0|182|5400| 16| 22|41315|\n|  0|  ?|        bmw|gas|  std|four|      sedan|rwd|front|110.0|197.0|70.9|56.3|3505| ohc|  six|209|mpfi|3.62|3.39| 8.0|182|5400| 15| 20|36880|\n|  2|121|  chevrolet|gas|  std| two|  hatchback|fwd|front| 88.4|141.1|60.3|53.2|1488|   l|three| 61|2bbl|2.91|3.03| 9.5| 48|5100| 47| 53| 5151|\n|  1| 98|  chevrolet|gas|  std| two|  hatchback|fwd|front| 94.5|155.9|63.6|52.0|1874| ohc| four| 90|2bbl|3.03|3.11| 9.6| 70|5400| 38| 43| 6295|\n|  0| 81|  chevrolet|gas|  std|four|      sedan|fwd|front| 94.5|158.8|63.6|52.0|1909| ohc| four| 90|2bbl|3.03|3.11| 9.6| 70|5400| 38| 43| 6575|\n+---+---+-----------+---+-----+----+-----------+---+-----+-----+-----+----+----+----+----+-----+---+----+----+----+----+---+----+---+---+-----+\nonly showing top 20 rows\n\n"
                }
            ],
            "source": "df.show()"
        },
        {
            "cell_type": "code",
            "execution_count": 16,
            "metadata": {},
            "outputs": [
                {
                    "data": {
                        "text/plain": "49.5"
                    },
                    "execution_count": 16,
                    "metadata": {},
                    "output_type": "execute_result"
                }
            ],
            "source": "#calculating mean values \nsum = rdd.sum()\nn = rdd.count()\nmean = sum/n\nmean"
        },
        {
            "cell_type": "code",
            "execution_count": 17,
            "metadata": {},
            "outputs": [
                {
                    "data": {
                        "text/plain": "28.86607004772212"
                    },
                    "execution_count": 17,
                    "metadata": {},
                    "output_type": "execute_result"
                }
            ],
            "source": "#standard deviation\nsd = rdd.stdev()\nsd"
        },
        {
            "cell_type": "code",
            "execution_count": 18,
            "metadata": {},
            "outputs": [
                {
                    "name": "stdout",
                    "output_type": "stream",
                    "text": "--2020-04-14 16:30:22--  https://github.com/IBM/coursera/blob/master/coursera_ds/washing.parquet?raw=true\nResolving github.com (github.com)... 140.82.112.3\nConnecting to github.com (github.com)|140.82.112.3|:443... connected.\nHTTP request sent, awaiting response... 301 Moved Permanently\nLocation: https://github.com/IBM/skillsnetwork/blob/master/coursera_ds/washing.parquet?raw=true [following]\n--2020-04-14 16:30:27--  https://github.com/IBM/skillsnetwork/blob/master/coursera_ds/washing.parquet?raw=true\nReusing existing connection to github.com:443.\nHTTP request sent, awaiting response... 302 Found\nLocation: https://github.com/IBM/skillsnetwork/raw/master/coursera_ds/washing.parquet [following]\n--2020-04-14 16:30:27--  https://github.com/IBM/skillsnetwork/raw/master/coursera_ds/washing.parquet\nReusing existing connection to github.com:443.\nHTTP request sent, awaiting response... 302 Found\nLocation: https://raw.githubusercontent.com/IBM/skillsnetwork/master/coursera_ds/washing.parquet [following]\n--2020-04-14 16:30:27--  https://raw.githubusercontent.com/IBM/skillsnetwork/master/coursera_ds/washing.parquet\nResolving raw.githubusercontent.com (raw.githubusercontent.com)... 199.232.8.133\nConnecting to raw.githubusercontent.com (raw.githubusercontent.com)|199.232.8.133|:443... connected.\nHTTP request sent, awaiting response... 200 OK\nLength: 112048 (109K) [application/octet-stream]\nSaving to: 'washing.parquet?raw=true'\n\n100%[======================================>] 112,048     --.-K/s   in 0.004s  \n\n2020-04-14 16:30:27 (24.0 MB/s) - 'washing.parquet?raw=true' saved [112048/112048]\n\n"
                }
            ],
            "source": "\n!wget https://github.com/IBM/coursera/blob/master/coursera_ds/washing.parquet?raw=true\n!mv washing.parquet?raw=true washing.parquet"
        },
        {
            "cell_type": "code",
            "execution_count": 19,
            "metadata": {},
            "outputs": [],
            "source": "df = spark.read.parquet('washing.parquet')"
        },
        {
            "cell_type": "code",
            "execution_count": 20,
            "metadata": {},
            "outputs": [
                {
                    "data": {
                        "text/plain": "2058"
                    },
                    "execution_count": 20,
                    "metadata": {},
                    "output_type": "execute_result"
                }
            ],
            "source": "df.count()"
        },
        {
            "cell_type": "code",
            "execution_count": 21,
            "metadata": {},
            "outputs": [
                {
                    "name": "stdout",
                    "output_type": "stream",
                    "text": "+--------------------+--------------------+-----+--------+----------+---------+--------+-----+-----------+-------------+-------+\n|                 _id|                _rev|count|flowrate|fluidlevel|frequency|hardness|speed|temperature|           ts|voltage|\n+--------------------+--------------------+-----+--------+----------+---------+--------+-----+-----------+-------------+-------+\n|0d86485d0f88d1f9d...|1-57940679fb8a713...|    4|      11|acceptable|     null|      77| null|        100|1547808723923|   null|\n|0d86485d0f88d1f9d...|1-15ff3a0b304d789...|    2|    null|      null|     null|    null| 1046|       null|1547808729917|   null|\n|0d86485d0f88d1f9d...|1-97c2742b68c7b07...|    4|    null|      null|       71|    null| null|       null|1547808731918|    236|\n|0d86485d0f88d1f9d...|1-eefb903dbe45746...|   19|      11|acceptable|     null|      75| null|         86|1547808738999|   null|\n|0d86485d0f88d1f9d...|1-5f68b4c72813c25...|    7|    null|      null|       75|    null| null|       null|1547808740927|    235|\n|0d86485d0f88d1f9d...|1-cd4b6c57ddbe77e...|    5|    null|      null|     null|    null| 1014|       null|1547808744923|   null|\n|0d86485d0f88d1f9d...|1-a35b25b5bf43aaf...|   32|      11|acceptable|     null|      73| null|         84|1547808752028|   null|\n|0d86485d0f88d1f9d...|1-b717f7289a8476d...|   48|      11|acceptable|     null|      79| null|         84|1547808768065|   null|\n|0d86485d0f88d1f9d...|1-c2f1f8fcf178b2f...|   18|    null|      null|       73|    null| null|       null|1547808773944|    228|\n|0d86485d0f88d1f9d...|1-15033dd9eebb4a8...|   59|      11|acceptable|     null|      72| null|         96|1547808779093|   null|\n|0d86485d0f88d1f9d...|1-753dae825f9a6c2...|   62|      11|acceptable|     null|      73| null|         88|1547808782113|   null|\n|0d86485d0f88d1f9d...|1-b168089f44f03f0...|   13|    null|      null|     null|    null| 1097|       null|1547808784940|   null|\n|0d86485d0f88d1f9d...|1-403b687c6be0dea...|   23|    null|      null|       80|    null| null|       null|1547808788955|    236|\n|0d86485d0f88d1f9d...|1-195551e0455a24b...|   72|      11|acceptable|     null|      77| null|         87|1547808792134|   null|\n|0d86485d0f88d1f9d...|1-060a39fc6c2ddee...|   26|    null|      null|       62|    null| null|       null|1547808797959|    233|\n|0d86485d0f88d1f9d...|1-2234514bffee465...|   27|    null|      null|       61|    null| null|       null|1547808800960|    226|\n|0d86485d0f88d1f9d...|1-4265898bb401db0...|   82|      11|acceptable|     null|      79| null|         96|1547808802154|   null|\n|0d86485d0f88d1f9d...|1-2fbf7ca9a0425a0...|   94|      11|acceptable|     null|      73| null|         90|1547808814186|   null|\n|0d86485d0f88d1f9d...|1-203c0ee6d7fbd21...|   97|      11|acceptable|     null|      77| null|         88|1547808817190|   null|\n|0d86485d0f88d1f9d...|1-47e1965db94fcab...|  104|      11|acceptable|     null|      75| null|         80|1547808824198|   null|\n+--------------------+--------------------+-----+--------+----------+---------+--------+-----+-----------+-------------+-------+\nonly showing top 20 rows\n\n"
                }
            ],
            "source": "df.createOrReplaceTempView(\"washing\")\nspark.sql(\"SELECT * FROM washing\").show()"
        },
        {
            "cell_type": "code",
            "execution_count": 22,
            "metadata": {},
            "outputs": [
                {
                    "name": "stdout",
                    "output_type": "stream",
                    "text": "+-------+\n|voltage|\n+-------+\n|    236|\n|    235|\n|    228|\n|    236|\n|    233|\n|    226|\n|    235|\n|    220|\n|    225|\n|    239|\n|    230|\n|    236|\n|    244|\n|    235|\n|    234|\n|    224|\n|    225|\n|    223|\n|    236|\n|    226|\n+-------+\nonly showing top 20 rows\n\n"
                }
            ],
            "source": "result = spark.sql(\"select voltage from washing where voltage is not null\").show()"
        },
        {
            "cell_type": "code",
            "execution_count": null,
            "metadata": {},
            "outputs": [],
            "source": ""
        },
        {
            "cell_type": "code",
            "execution_count": null,
            "metadata": {},
            "outputs": [],
            "source": ""
        }
    ],
    "metadata": {
        "kernelspec": {
            "display_name": "Python 3.6 with Spark",
            "language": "python3",
            "name": "python36"
        },
        "language_info": {
            "codemirror_mode": {
                "name": "ipython",
                "version": 3
            },
            "file_extension": ".py",
            "mimetype": "text/x-python",
            "name": "python",
            "nbconvert_exporter": "python",
            "pygments_lexer": "ipython3",
            "version": "3.6.8"
        }
    },
    "nbformat": 4,
    "nbformat_minor": 1
}